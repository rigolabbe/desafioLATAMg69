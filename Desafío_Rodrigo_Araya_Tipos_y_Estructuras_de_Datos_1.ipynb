{
  "nbformat": 4,
  "nbformat_minor": 0,
  "metadata": {
    "colab": {
      "provenance": [],
      "authorship_tag": "ABX9TyMlNaAqiCPRnqmE2NfLDZ6a",
      "include_colab_link": true
    },
    "kernelspec": {
      "name": "python3",
      "display_name": "Python 3"
    },
    "language_info": {
      "name": "python"
    }
  },
  "cells": [
    {
      "cell_type": "markdown",
      "metadata": {
        "id": "view-in-github",
        "colab_type": "text"
      },
      "source": [
        "<a href=\"https://colab.research.google.com/github/rigolabbe/desafioLATAMg69/blob/main/Desaf%C3%ADo_Rodrigo_Araya_Tipos_y_Estructuras_de_Datos_1.ipynb\" target=\"_parent\"><img src=\"https://colab.research.google.com/assets/colab-badge.svg\" alt=\"Open In Colab\"/></a>"
      ]
    },
    {
      "cell_type": "code",
      "execution_count": null,
      "metadata": {
        "id": "ujRUrsZz_xqM"
      },
      "outputs": [],
      "source": []
    },
    {
      "cell_type": "markdown",
      "source": [
        "1. Usandola siguiente lista:\n",
        " lista = [\"manzana\", \"pera\", \"naranja\", \"plátano\", \"kiwi\", \"uva\", \"piña\",\n",
        " \"mango\", \"sandía\", \"melón\"]\n",
        " a. Imprime el quinto elemento de la lista.\n",
        " b. Imprime del cuarto al sexto inclusive.\n",
        " c. Elimina el elemento en la posición 3\n",
        " d. Agrega dos nuevos elementos a la lista\n",
        " e. Ordena la lista alfabéticamente.\n",
        " f.\n",
        " Genera un diccionario usando lista1 como llaves y lista como valores."
      ],
      "metadata": {
        "id": "H5ub7VCZADdB"
      }
    },
    {
      "cell_type": "code",
      "source": [
        "lista = [\"manzana\", \"pera\", \"naranja\", \"plátano\", \"kiwi\", \"uva\", \"piña\", \"mango\", \"sandía\", \"melón\"]\n",
        "lista1 = [\"uno\", \"dos\", \"tres\", \"cuatro\", \"cinco\", \"seis\", \"siete\", \"ocho\", \"nueve\", \"diez\"]\n",
        "\n",
        "#PREGUNTA A. Imprime el quinto elemento de la lista\n",
        "print(\"El quinto elemento es : \", lista[4])\n",
        "\n",
        "#PREGUNTA B. Imprime del cuarto al sexto inclusive\n",
        "# obtengo los indices correspondiente a elementos 4 platano y el 6 uva\n",
        "#    print(lista.index(lista[3]))\n",
        "#    print(lista.index(lista[5]))\n",
        "\n",
        "#recorro la lista completa\n",
        "for fruta in lista:\n",
        "      #preguntamos por el indice de la lista esta entre 4 a 6 se imprime\n",
        "  if  lista.index(fruta)  >= lista.index(lista[3])  and  lista.index(fruta)  <= lista.index(lista[5])  :\n",
        "      # se imprime + 1 dado que lista inicia en 0\n",
        "      print( \"El elemento\" , lista.index(fruta) + 1, \"de la lista es :\", fruta)\n",
        "\n",
        "#PREGUNTA C. Elimina el elemento en la posición 3\n",
        "print(\"Se eliminará el elemento \", lista[2])\n",
        "lista.pop(lista.index(lista[2]))\n",
        "print(lista)\n",
        "\n",
        "#PREGUNTA D. Agrega dos nuevos elementos a la lista\n",
        "lista.append(\"maracuya\")\n",
        "lista.append(\"durazno\")\n",
        "\n",
        "#PREGUNTA E. Ordena la lista alfabéticamente.\n",
        "lista.sort()\n",
        "print(lista)\n",
        "\n",
        "#PREGUNTA F. Genera un diccionario usando lista1 como llaves y lista como valores.\n",
        "#La función zip() acepta objetos iterables como listas, cadenas y tuplas como argumentos y devuelve un solo iterable,\n",
        "#en este caso ambas listas son generadas como un dicciionario iterable.\n",
        "\n",
        "diccionario_frutas = dict(zip(lista1, lista))\n",
        "print(\"El nuevo diccionario frutas es:\", diccionario_frutas)"
      ],
      "metadata": {
        "id": "NJWC1yWPAFaZ"
      },
      "execution_count": null,
      "outputs": []
    },
    {
      "cell_type": "markdown",
      "source": [
        " El objetivo del ejercicio es calcular la media, la desviación estándar, el LIC y el LSC del porcentaje de alcohol y guardarlos en variables"
      ],
      "metadata": {
        "id": "9b508rLhVRzx"
      }
    },
    {
      "cell_type": "code",
      "source": [
        "from numpy.lib.function_base import median\n",
        "from statistics import mean\n",
        "\n",
        "#importamos la libreria numpy para manejo de numeros  con alias np\n",
        "import numpy as np\n",
        "#  f=open(\"alcohol_cerveza.csv\")\n",
        "filepath =\"/content/alcohol_cerveza.csv\"\n",
        "array_alcohol = np.loadtxt(filepath)\n",
        "\n",
        "# Calcula la media\n",
        "media = np.mean(array_alcohol)\n",
        "\n",
        "# Calcula la desviación estándar\n",
        "desviacion = np.std(array_alcohol)\n",
        "\n",
        "# Calcula el límite inferior de control\n",
        "lic = media - (3 * desviacion)\n",
        "\n",
        "# Calcula el límite superior de control\n",
        "lsc = media + (3 * desviacion)\n",
        "\n",
        "# Imprime los resultados de la media, la desviación estándar, el LIC y el LSC.\n",
        "print(\"El calculo de la media es, \", media)\n",
        "print(\"El calculo de la desviación estándar  es, \", desviacion)\n",
        "print(\"El calculo de limite inferior es, \", lic)\n",
        "print(\"El calculo de limite superior es, \", lsc)\n",
        "\n",
        "# Filtra el array utilizando np.logical_or(condicion1, condicion2) para obtener los valores\n",
        "# fuera de los límites de control.\n",
        "\n",
        "np.logical_or(array_alcohol < lic ,  array_alcohol > lsc)\n",
        "\n"
      ],
      "metadata": {
        "id": "oWhCFP5_VUXJ",
        "colab": {
          "base_uri": "https://localhost:8080/"
        },
        "outputId": "ed4c960f-0ead-469b-8f90-facc5dd0448f"
      },
      "execution_count": 11,
      "outputs": [
        {
          "output_type": "stream",
          "name": "stdout",
          "text": [
            "El calculo de la media es,  5.005334665334665\n",
            "El calculo de la desviación estándar  es,  0.34934892044901755\n",
            "El calculo de limite inferior es,  3.9572879039876123\n",
            "El calculo de limite superior es,  6.053381426681717\n"
          ]
        },
        {
          "output_type": "execute_result",
          "data": {
            "text/plain": [
              "array([ True, False, False, ..., False, False, False])"
            ]
          },
          "metadata": {},
          "execution_count": 11
        }
      ]
    }
  ]
}