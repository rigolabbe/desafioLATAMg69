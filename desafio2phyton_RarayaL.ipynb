{
  "nbformat": 4,
  "nbformat_minor": 0,
  "metadata": {
    "colab": {
      "provenance": [],
      "authorship_tag": "ABX9TyN6T5Zk+08pYgGI+XqFU49Z",
      "include_colab_link": true
    },
    "kernelspec": {
      "name": "python3",
      "display_name": "Python 3"
    },
    "language_info": {
      "name": "python"
    }
  },
  "cells": [
    {
      "cell_type": "markdown",
      "metadata": {
        "id": "view-in-github",
        "colab_type": "text"
      },
      "source": [
        "<a href=\"https://colab.research.google.com/github/rigolabbe/desafioLATAMg69/blob/main/desafio2phyton_RarayaL.ipynb\" target=\"_parent\"><img src=\"https://colab.research.google.com/assets/colab-badge.svg\" alt=\"Open In Colab\"/></a>"
      ]
    },
    {
      "cell_type": "markdown",
      "source": [
        "1. Ejercicio 1: Suma de números pares\n",
        " Escribe un programa que pida al usuario dos números enteros y calcule la suma de\n",
        " todos los números pares entre ellos. El programa deberá imprimir el resultado. (hint:\n",
        " utilice la función range() para generar la secuencia de números enteros)"
      ],
      "metadata": {
        "id": "iXoxA2D6s2If"
      }
    },
    {
      "cell_type": "code",
      "execution_count": null,
      "metadata": {
        "id": "7he4MnBmcG8t"
      },
      "outputs": [],
      "source": [
        "\n",
        "#Ingresa los dos Numeros Enteros\n",
        "\n",
        "print(\"Ingresa primer  numero :\")\n",
        "pn=int(input())\n",
        "\n",
        "print(\"Ingresa segundo numero :\")\n",
        "sn=int(input())\n",
        "\n",
        "suma = 0\n",
        "\n",
        "#La funcion range crea una serie de numeros consecutivos\n",
        "#a partir de los argumentos entregados por el usuario\n",
        "for i in range(pn,sn+1):\n",
        "#Evaluamos si el numero que se recorre con la sentencia for es par o impar\n",
        "  if i % 2 == 0:\n",
        "#si es par (modulo 0) sumamos el numero en la variable suma\n",
        "    suma +=i\n",
        "    print(\"Los N° pares del rango (\",pn,\"-\",sn,\") son: \", i)\n",
        "#finalmente se imprime el resultado de los numeros pares\n",
        "print(\"La suma  de numeros pares es : \", suma)\n"
      ]
    },
    {
      "cell_type": "markdown",
      "source": [
        "Ejercicio 2: Calculadora de áreas\n",
        " Escribe un programa que pida al usuario el tipo de figura geométrica de la que quiere calcular el área (cuadrado, triángulo o círculo) y las medidas correspondientes. El programa deberá calcular y mostrar el área de la figura seleccionada. (hint: para obtener el número pi puedes utilizar la librería math)"
      ],
      "metadata": {
        "id": "CgRaQqmFs0Mu"
      }
    },
    {
      "cell_type": "code",
      "source": [
        "#Ingresa figura geometrica a calcular\n",
        "#importsmo la libreria math para utilizar funciones matematicas\n",
        "#como extras a lo solicitado Se genera ciclo while para generar interaccion\n",
        "#con usuario hasta  que decida no realizar  mas calculos , ademas\n",
        "#se valida que la opcion  ingresada de figura geometrica sea  valida.\n",
        "import math\n",
        "\n",
        "print(\"Ingrese numero  1-Iniciar  -  2-Salir) :\")\n",
        "opc=int(input())\n",
        "\n",
        "while opc==1:\n",
        "\n",
        "  print(\"Ingresa tu opción (cuadrado, triangulo o circulo) :\")\n",
        "  fg=input()\n",
        "\n",
        "  if fg ==\"circulo\":\n",
        "\n",
        "    #calcula el radio de circulo\n",
        "    print(\"Ingresa el radio del circulo :\")\n",
        "    radio = float(input())\n",
        "    #se obtiene el valor de pi\n",
        "    pi = math.pi\n",
        "    #se implementa la formula de calculo de radio\n",
        "    areaC = pi * (radio * radio)\n",
        "    print(\"El área del círculo de radio \",radio, \"es, \" ,round(areaC,2))\n",
        "    print(\"Desea calcular otra area geometrica 1.SI 2.NO) :\")\n",
        "    opc=int(input())\n",
        "\n",
        "\n",
        "  elif fg ==\"triangulo\":\n",
        "      #calcula el area de triangulo\n",
        "      print(\"Ingresa la base del triangulo :\")\n",
        "      base = float(input())\n",
        "      print(\"Ingresa la altura del triangulo :\")\n",
        "      altura = float(input())\n",
        "      #se implementa la formula de calculo de area triangulo  A=(b*h)/2\n",
        "      areaT = (base * altura) / 2\n",
        "      print(\"El área del triangulo (base\",base,\"altura\",altura,\") es: \", round(areaT,2))\n",
        "      print(\"Desea calcular otra area geometrica 1.SI 2.NO) :\")\n",
        "      opc=int(input())\n",
        "\n",
        "  elif fg ==\"cuadrado\":\n",
        "      #calcula el area de cuadrado\n",
        "      print(\"Ingresa el lado del cuadrado :\")\n",
        "      lado = float(input())\n",
        "      #se implementa la formula de calculo de area cuadrado\n",
        "      areaCua = (lado * lado)\n",
        "      print(\"El área del cuadrado (lado\",lado,\") es: \", round(areaCua,2))\n",
        "      print(\"Desea calcular otra area geometrica 1.SI 2.NO) :\")\n",
        "      opc=int(input())\n",
        "\n",
        "  else:\n",
        "      print(\"Opción no Válida\")\n"
      ],
      "metadata": {
        "id": "lSjYJ-64lCxn"
      },
      "execution_count": null,
      "outputs": []
    },
    {
      "cell_type": "markdown",
      "source": [
        "jercicio 3: Adivina el número Escribe un programa que genere un número aleatorio entre 1 y 100 y pida al usuario\n",
        " que adivine cuál es. El programa deberá dar pistas al usuario diciendo si el número que ha introducido es mayor o menor que el número aleatorio. El programa deberá continuar pidiendo números hasta que el usuario adivine el número correcto. (hint: utiliza un ciclo while para mantener al programa pidiendo números)"
      ],
      "metadata": {
        "id": "cXH_pA3QY6Nc"
      }
    },
    {
      "cell_type": "code",
      "source": [
        "\n",
        "#se importa la libreria de modulo random\n",
        "import random\n",
        "\n",
        "print(\"Ingrese numero a adivinar) :\")\n",
        "numuser=int(input())\n",
        "\n",
        "#se genera el numero aleatorio  automatico\n",
        "numoculto = (random.randint(1,100))\n",
        "print(\"El numero Oculto es : \", numoculto)\n",
        "\n",
        "while numuser != numoculto:\n",
        "  print(\"No es el numero secreto !!\")\n",
        "  if numuser > numoculto:\n",
        "    print(\"El numero Ingresado es mayor al numero secreto\")\n",
        "  else:\n",
        "    print(\"El numero Ingresado es menor  al numero secreto\")\n",
        "\n",
        "  print(\"Ingrese numero a adivinar) :\")\n",
        "  numuser=int(input())\n",
        "\n",
        "print(\"FELICIDADES!! , el numero secreto es : \", numoculto)"
      ],
      "metadata": {
        "id": "cHJ8VcVHZBcI"
      },
      "execution_count": null,
      "outputs": []
    },
    {
      "cell_type": "markdown",
      "source": [
        "4. Ejercicio 4: ¡Maratón de caracoles!\n",
        " Crea un programa que simule un caracol que va corriendo una maratón. Pide al usuario que ingrese la velocidad a la que puede correr el caracol. Debes usar un ciclo while, para ir mostrando un emoji de caracol que se vaya moviendo hacia la derecha en cada impresión, el avance del caracol debe visualizarse de esta forma:"
      ],
      "metadata": {
        "id": "3YUNEri5drzN"
      }
    },
    {
      "cell_type": "code",
      "source": [
        "part = int(input(\"Ingresa número de Participantes :\"))\n",
        "vel = int(input(\"Ingresa Velocidad de Caracol :\"))\n",
        "\n",
        "for i in range(1,part+1):\n",
        "  #probe y busque las formas de poner el icono pero no lo logré encontrar,\n",
        "  #me funciono solo con este icono , pero nose si fue por el formato  o algo especial que deba tener la imagen para que funcione\n",
        "  #le envie la consulta por slack :)\n",
        "  print(vel*\"_\"*i,\"🌍\")"
      ],
      "metadata": {
        "id": "pd9OO6P_dwRe"
      },
      "execution_count": null,
      "outputs": []
    }
  ]
}